{
 "cells": [
  {
   "cell_type": "markdown",
   "metadata": {},
   "source": [
    "# Q2: Lets go deeper! CaffeNet for PASCAL classification (20 pts)\n",
    "\n",
    "**Note:** You are encouraged to reuse code from the previous task. Finish Q1 if you haven't already!\n",
    "\n",
    "\n",
    "As you might have seen, the performance of the SimpleCNN model was pretty low for PASCAL. This is expected as PASCAL is much more complex than FASHION MNIST, and we need a much beefier model to handle it.\n",
    "\n",
    "In this task we will be constructing a variant of the [AlexNet](https://papers.nips.cc/paper/4824-imagenet-classification-with-deep-convolutional-neural-networks.pdf) architecture, known as CaffeNet. If you are familiar with Caffe, a prototxt of the network is available [here](https://github.com/BVLC/caffe/blob/master/models/bvlc_reference_caffenet/train_val.prototxt). A visualization of the network is available [here](http://ethereon.github.io/netscope/#/preset/caffenet).\n",
    "\n",
    "\n",
    "## 2.1 Build CaffeNet (5 pts)\n",
    "Here is the exact model we want to build. In this task, `torchvision.models.xxx()` is NOT allowed. Define your own CaffeNet! We use the following operator notation for the architecture:\n",
    "1. Convolution: A convolution with kernel size $k$, stride $s$, output channels $n$, padding $p$ is represented as $conv(k, s, n, p)$.\n",
    "2. Max Pooling: A max pool operation with kernel size $k$, stride $s$ as $maxpool(k, s)$.\n",
    "3. Fully connected: For $n$ output units, $FC(n)$.\n",
    "4. ReLU: For rectified linear non-linearity $relu()$\n",
    "\n",
    "```\n",
    "ARCHITECTURE:\n",
    "-> image\n",
    "-> conv(11, 4, 96, ’VALID’)\n",
    "-> relu()\n",
    "-> max_pool(3, 2)\n",
    "-> conv(5, 1, 256, 'SAME')\n",
    "-> relu()\n",
    "-> max_pool(3, 2)\n",
    "-> conv(3, 1, 384, 'SAME')\n",
    "-> relu()\n",
    "-> conv(3, 1, 384, 'SAME')\n",
    "-> relu()\n",
    "-> conv(3, 1, 256, ’SAME’)\n",
    "-> relu()\n",
    "-> max_pool(3, 2)\n",
    "-> flatten()\n",
    "-> fully_connected(4096)\n",
    "-> relu()\n",
    "-> dropout(0.5)\n",
    "-> fully_connected(4096)\n",
    "-> relu()\n",
    "-> dropout(0.5)\n",
    "-> fully_connected(20)\n",
    "```"
   ]
  },
  {
   "cell_type": "code",
   "execution_count": 2,
   "metadata": {},
   "outputs": [
    {
     "name": "stdout",
     "output_type": "stream",
     "text": [
      "env: CUDA_VISIBLE_DEVICES=0\n"
     ]
    }
   ],
   "source": [
    "import torch\n",
    "import torch.nn as nn\n",
    "import torch.nn.functional as F\n",
    "from torchvision.models.utils import load_state_dict_from_url\n",
    "import os\n",
    "import matplotlib.pyplot as plt\n",
    "%matplotlib inline\n",
    "\n",
    "import trainer\n",
    "from utils import ARGS\n",
    "from simple_cnn import SimpleCNN\n",
    "from voc_dataset import VOCDataset\n",
    "%env CUDA_VISIBLE_DEVICES=0\n",
    "\n",
    "%matplotlib inline\n",
    "\n",
    "\n",
    "\n",
    "class CaffeNet(nn.Module):\n",
    "    def __init__(self):\n",
    "        super().__init__()\n",
    "        conv1 = [nn.Conv2d(in_channels=3,out_channels=96,kernel_size=11,stride=4,padding=0,bias=True)]\n",
    "                      \n",
    "        self.conv_first = nn.Sequential(*conv1)\n",
    "        \n",
    "        self.conv1_features = [] #epoch,features of filters\n",
    "        conv_layers = [\n",
    "                        nn.ReLU(inplace=True),\n",
    "                       nn.MaxPool2d(kernel_size=3,stride=2),\n",
    "                       nn.Conv2d(in_channels=96,out_channels=256,stride=1,kernel_size=5,padding=2,bias=True),\n",
    "                       nn.ReLU(inplace=True),\n",
    "                       nn.MaxPool2d(kernel_size=3,stride=2),\n",
    "                       \n",
    "                       nn.Conv2d(in_channels=256,out_channels=384,stride=1,kernel_size=3,padding=1,bias=True),\n",
    "                       nn.ReLU(inplace=True),\n",
    "                       \n",
    "                       nn.Conv2d(in_channels=384,out_channels=384,stride=1,kernel_size=3,padding=1,bias=True),\n",
    "                       nn.ReLU(inplace=True),\n",
    "                       \n",
    "                       nn.Conv2d(in_channels=384,out_channels=256,stride=1,kernel_size=3,padding=1,bias=True),\n",
    "                       nn.ReLU(inplace=True),\n",
    "                       nn.MaxPool2d(kernel_size=3,stride=2)\n",
    "                      ]\n",
    "        self.conv_layers = nn.Sequential(*conv_layers)\n",
    "        fc = [nn.Linear(256*11*11,4096,bias=True),\n",
    "             nn.ReLU(inplace=True),\n",
    "             nn.Dropout(0.5),\n",
    "             \n",
    "              nn.Linear(4096,4096,bias=True),\n",
    "            nn.ReLU(inplace=True),\n",
    "              nn.Dropout(0.5),\n",
    "              \n",
    "              nn.Linear(4096,20,bias=True)\n",
    "             ]\n",
    "        self.fc_layers = nn.Sequential(*fc)\n",
    "#         self.conv_first.register_forward_hook(self.save_outputs_hook())\n",
    "        \n",
    "#     def save_outputs_hook(self):\n",
    "#         def hook(model,inp, output):\n",
    "#             self.conv1_features.append(output.detach())\n",
    "#         return hook\n",
    "\n",
    "    \n",
    "    \n",
    "    def forward(self, x):\n",
    "        x=self.conv_first(x)\n",
    "        x=self.conv_layers(x)\n",
    "        x=torch.flatten(x,start_dim=1)\n",
    "        out=self.fc_layers(x)\n",
    "        return out"
   ]
  },
  {
   "cell_type": "markdown",
   "metadata": {},
   "source": [
    "## 2.2 Save the Model (5 pts)\n",
    "Finish code stubs for saving the model periodically into `trainer.py`. **You will need these models later**\n",
    "\n",
    "\n",
    "## 2.3 Train and Test (5pts)\n",
    "Show clear screenshots of testing MAP and training loss for 50 epochs. Please evaluate your model to calculate the MAP on the testing dataset every 250 iterations. Use the following hyperparamters:\n",
    "* batch_size=32\n",
    "* Adam optimizer with lr=0.0001\n",
    "\n",
    "**NOTE: SAVE AT LEAST 5 EVENLY SPACED CHECKPOINTS DURING TRAINING (1 at end)**"
   ]
  },
  {
   "cell_type": "code",
   "execution_count": 3,
   "metadata": {},
   "outputs": [
    {
     "name": "stdout",
     "output_type": "stream",
     "text": [
      "Train Epoch: 0 [0 (0%)]\tLoss: 0.692977\n",
      "Test Epoch: 0 [0 (0%)]\tmAP: 0.069898\n",
      "Train Epoch: 0 [100 (64%)]\tLoss: 0.261110\n",
      "Train Epoch: 1 [200 (27%)]\tLoss: 0.238920\n",
      "Test Epoch: 1 [250 (59%)]\tmAP: 0.115613\n",
      "Train Epoch: 1 [300 (91%)]\tLoss: 0.238063\n",
      "Train Epoch: 2 [400 (55%)]\tLoss: 0.243902\n",
      "Train Epoch: 3 [500 (18%)]\tLoss: 0.222822\n",
      "Test Epoch: 3 [500 (18%)]\tmAP: 0.155766\n",
      "Train Epoch: 3 [600 (82%)]\tLoss: 0.229039\n",
      "Train Epoch: 4 [700 (46%)]\tLoss: 0.222055\n",
      "Test Epoch: 4 [750 (78%)]\tmAP: 0.169797\n",
      "Train Epoch: 5 [800 (10%)]\tLoss: 0.208249\n",
      "Train Epoch: 5 [900 (73%)]\tLoss: 0.220676\n",
      "Train Epoch: 6 [1000 (37%)]\tLoss: 0.177393\n",
      "Test Epoch: 6 [1000 (37%)]\tmAP: 0.193221\n",
      "Train Epoch: 7 [1100 (1%)]\tLoss: 0.244983\n",
      "Train Epoch: 7 [1200 (64%)]\tLoss: 0.201182\n",
      "Test Epoch: 7 [1250 (96%)]\tmAP: 0.210451\n",
      "Train Epoch: 8 [1300 (28%)]\tLoss: 0.237658\n",
      "Train Epoch: 8 [1400 (92%)]\tLoss: 0.221375\n",
      "Train Epoch: 9 [1500 (55%)]\tLoss: 0.189915\n",
      "Test Epoch: 9 [1500 (55%)]\tmAP: 0.222596\n",
      "Train Epoch: 10 [1600 (19%)]\tLoss: 0.196881\n",
      "Train Epoch: 10 [1700 (83%)]\tLoss: 0.228156\n",
      "Test Epoch: 11 [1750 (15%)]\tmAP: 0.241162\n",
      "Train Epoch: 11 [1800 (46%)]\tLoss: 0.202781\n",
      "Train Epoch: 12 [1900 (10%)]\tLoss: 0.225615\n",
      "Train Epoch: 12 [2000 (74%)]\tLoss: 0.185650\n",
      "Test Epoch: 12 [2000 (74%)]\tmAP: 0.227675\n",
      "Train Epoch: 13 [2100 (38%)]\tLoss: 0.176899\n",
      "Train Epoch: 14 [2200 (1%)]\tLoss: 0.226242\n",
      "Test Epoch: 14 [2250 (33%)]\tmAP: 0.272072\n",
      "Train Epoch: 14 [2300 (65%)]\tLoss: 0.205388\n",
      "Train Epoch: 15 [2400 (29%)]\tLoss: 0.188402\n",
      "Train Epoch: 15 [2500 (92%)]\tLoss: 0.208372\n",
      "Test Epoch: 15 [2500 (92%)]\tmAP: 0.269799\n",
      "Train Epoch: 16 [2600 (56%)]\tLoss: 0.178793\n",
      "Train Epoch: 17 [2700 (20%)]\tLoss: 0.174762\n",
      "Test Epoch: 17 [2750 (52%)]\tmAP: 0.285524\n",
      "Train Epoch: 17 [2800 (83%)]\tLoss: 0.199813\n",
      "Train Epoch: 18 [2900 (47%)]\tLoss: 0.203604\n",
      "Train Epoch: 19 [3000 (11%)]\tLoss: 0.207692\n",
      "Test Epoch: 19 [3000 (11%)]\tmAP: 0.275282\n",
      "Train Epoch: 19 [3100 (75%)]\tLoss: 0.157850\n",
      "Train Epoch: 20 [3200 (38%)]\tLoss: 0.188402\n",
      "Test Epoch: 20 [3250 (70%)]\tmAP: 0.314228\n",
      "Train Epoch: 21 [3300 (2%)]\tLoss: 0.188862\n",
      "Train Epoch: 21 [3400 (66%)]\tLoss: 0.162842\n",
      "Train Epoch: 22 [3500 (29%)]\tLoss: 0.179340\n",
      "Test Epoch: 22 [3500 (29%)]\tmAP: 0.343395\n",
      "Train Epoch: 22 [3600 (93%)]\tLoss: 0.165279\n",
      "Train Epoch: 23 [3700 (57%)]\tLoss: 0.175619\n",
      "Test Epoch: 23 [3750 (89%)]\tmAP: 0.340914\n",
      "Train Epoch: 24 [3800 (20%)]\tLoss: 0.180571\n",
      "Train Epoch: 24 [3900 (84%)]\tLoss: 0.189798\n",
      "Train Epoch: 25 [4000 (48%)]\tLoss: 0.172531\n",
      "Test Epoch: 25 [4000 (48%)]\tmAP: 0.347360\n",
      "Train Epoch: 26 [4100 (11%)]\tLoss: 0.180401\n",
      "Train Epoch: 26 [4200 (75%)]\tLoss: 0.157703\n",
      "Test Epoch: 27 [4250 (7%)]\tmAP: 0.355838\n",
      "Train Epoch: 27 [4300 (39%)]\tLoss: 0.168389\n",
      "Train Epoch: 28 [4400 (3%)]\tLoss: 0.146437\n",
      "Train Epoch: 28 [4500 (66%)]\tLoss: 0.171070\n",
      "Test Epoch: 28 [4500 (66%)]\tmAP: 0.362001\n",
      "Train Epoch: 29 [4600 (30%)]\tLoss: 0.173725\n",
      "Train Epoch: 29 [4700 (94%)]\tLoss: 0.141663\n",
      "Test Epoch: 30 [4750 (25%)]\tmAP: 0.382660\n",
      "Train Epoch: 30 [4800 (57%)]\tLoss: 0.148725\n",
      "Train Epoch: 31 [4900 (21%)]\tLoss: 0.209353\n",
      "Train Epoch: 31 [5000 (85%)]\tLoss: 0.160433\n",
      "Test Epoch: 31 [5000 (85%)]\tmAP: 0.359178\n",
      "Train Epoch: 32 [5100 (48%)]\tLoss: 0.137650\n",
      "Train Epoch: 33 [5200 (12%)]\tLoss: 0.171916\n",
      "Test Epoch: 33 [5250 (44%)]\tmAP: 0.380550\n",
      "Train Epoch: 33 [5300 (76%)]\tLoss: 0.167809\n",
      "Train Epoch: 34 [5400 (39%)]\tLoss: 0.195813\n",
      "Train Epoch: 35 [5500 (3%)]\tLoss: 0.151520\n",
      "Test Epoch: 35 [5500 (3%)]\tmAP: 0.390740\n",
      "Train Epoch: 35 [5600 (67%)]\tLoss: 0.121309\n",
      "Train Epoch: 36 [5700 (31%)]\tLoss: 0.178890\n",
      "Test Epoch: 36 [5750 (62%)]\tmAP: 0.384516\n",
      "Train Epoch: 36 [5800 (94%)]\tLoss: 0.155795\n",
      "Train Epoch: 37 [5900 (58%)]\tLoss: 0.166594\n",
      "Train Epoch: 38 [6000 (22%)]\tLoss: 0.142097\n",
      "Test Epoch: 38 [6000 (22%)]\tmAP: 0.404675\n",
      "Train Epoch: 38 [6100 (85%)]\tLoss: 0.161921\n",
      "Train Epoch: 39 [6200 (49%)]\tLoss: 0.141919\n",
      "Test Epoch: 39 [6250 (81%)]\tmAP: 0.427050\n",
      "Train Epoch: 40 [6300 (13%)]\tLoss: 0.113942\n",
      "Train Epoch: 40 [6400 (76%)]\tLoss: 0.167998\n",
      "Train Epoch: 41 [6500 (40%)]\tLoss: 0.138742\n",
      "Test Epoch: 41 [6500 (40%)]\tmAP: 0.417689\n",
      "Train Epoch: 42 [6600 (4%)]\tLoss: 0.139222\n",
      "Train Epoch: 42 [6700 (68%)]\tLoss: 0.153477\n",
      "Test Epoch: 42 [6750 (99%)]\tmAP: 0.435103\n",
      "Train Epoch: 43 [6800 (31%)]\tLoss: 0.146585\n",
      "Train Epoch: 43 [6900 (95%)]\tLoss: 0.141861\n",
      "Train Epoch: 44 [7000 (59%)]\tLoss: 0.123305\n",
      "Test Epoch: 44 [7000 (59%)]\tmAP: 0.408931\n",
      "Train Epoch: 45 [7100 (22%)]\tLoss: 0.131223\n",
      "Train Epoch: 45 [7200 (86%)]\tLoss: 0.145928\n",
      "Test Epoch: 46 [7250 (18%)]\tmAP: 0.424120\n",
      "Train Epoch: 46 [7300 (50%)]\tLoss: 0.128794\n",
      "Train Epoch: 47 [7400 (13%)]\tLoss: 0.158533\n",
      "Train Epoch: 47 [7500 (77%)]\tLoss: 0.111411\n",
      "Test Epoch: 47 [7500 (77%)]\tmAP: 0.415200\n",
      "Train Epoch: 48 [7600 (41%)]\tLoss: 0.134618\n",
      "Train Epoch: 49 [7700 (4%)]\tLoss: 0.139118\n",
      "Test Epoch: 49 [7750 (36%)]\tmAP: 0.419936\n",
      "Train Epoch: 49 [7800 (68%)]\tLoss: 0.130249\n",
      "test map: 0.41278551962164645\n"
     ]
    }
   ],
   "source": [
    "args = ARGS(epochs=50, batch_size=32,test_batch_size=32, lr=0.0001,val_every=250,gamma=0.95,save_freq=5)\n",
    "model = CaffeNet()\n",
    "optimizer = torch.optim.Adam(model.parameters(),lr=args.lr)\n",
    "scheduler = torch.optim.lr_scheduler.StepLR(optimizer,step_size=5,gamma=args.gamma)\n",
    "test_ap, test_map = trainer.train(args, model, optimizer, scheduler)\n",
    "print('test map:', test_map)"
   ]
  },
  {
   "cell_type": "markdown",
   "metadata": {},
   "source": [
    "\n",
    "**INSERT YOUR TENSORBOARD SCREENSHOTS HERE**\n",
    "<img src=\"images/train_loss_q2.png\">\n",
    "<img src=\"images/lr_q2.png\">\n",
    "<img src=\"images/map_q2_.png\">\n",
    "\n"
   ]
  },
  {
   "cell_type": "markdown",
   "metadata": {},
   "source": [
    "## 2.4 Visualizing: Conv-1 filters (5pts)\n",
    "Extract and compare the conv1 filters, at different stages of the training (at least from 3 different iterations). Show at least 5 filters."
   ]
  },
  {
   "cell_type": "code",
   "execution_count": 48,
   "metadata": {},
   "outputs": [
    {
     "data": {
      "image/png": "[encoded data removed]",
      "text/plain": [
       "<Figure size 432x288 with 1 Axes>"
      ]
     },
     "metadata": {
      "needs_background": "light"
     },
     "output_type": "display_data"
    },
    {
     "data": {
      "image/png": "[encoded data removed]",
      "text/plain": [
       "<Figure size 432x288 with 1 Axes>"
      ]
     },
     "metadata": {
      "needs_background": "light"
     },
     "output_type": "display_data"
    },
    {
     "data": {
      "image/png": "[encoded data removed]",
      "text/plain": [
       "<Figure size 432x288 with 1 Axes>"
      ]
     },
     "metadata": {
      "needs_background": "light"
     },
     "output_type": "display_data"
    },
    {
     "data": {
      "image/png": "[encoded data removed]",
      "text/plain": [
       "<Figure size 432x288 with 1 Axes>"
      ]
     },
     "metadata": {
      "needs_background": "light"
     },
     "output_type": "display_data"
    },
    {
     "data": {
      "image/png": "[encoded data removed]",
      "text/plain": [
       "<Figure size 432x288 with 1 Axes>"
      ]
     },
     "metadata": {
      "needs_background": "light"
     },
     "output_type": "display_data"
    },
    {
     "data": {
      "image/png": "[encoded data removed]",
      "text/plain": [
       "<Figure size 432x288 with 1 Axes>"
      ]
     },
     "metadata": {
      "needs_background": "light"
     },
     "output_type": "display_data"
    },
    {
     "data": {
      "image/png": "[encoded data removed]",
      "text/plain": [
       "<Figure size 432x288 with 1 Axes>"
      ]
     },
     "metadata": {
      "needs_background": "light"
     },
     "output_type": "display_data"
    },
    {
     "data": {
      "image/png": "[encoded data removed]",
      "text/plain": [
       "<Figure size 432x288 with 1 Axes>"
      ]
     },
     "metadata": {
      "needs_background": "light"
     },
     "output_type": "display_data"
    },
    {
     "data": {
      "image/png": "[encoded data removed]",
      "text/plain": [
       "<Figure size 432x288 with 1 Axes>"
      ]
     },
     "metadata": {
      "needs_background": "light"
     },
     "output_type": "display_data"
    }
   ],
   "source": [
    "# visualize below\n",
    "model_weights_5 = torch.load(os.path.join(model.__class__.__name__,\"models\",\"5_.pt\"))\n",
    "model_weights_30 = torch.load(os.path.join(model.__class__.__name__,\"models\",\"30_.pt\"))\n",
    "model_weights_40 = torch.load(os.path.join(model.__class__.__name__,\"models\",\"40_.pt\"))\n",
    "# conv1_weight = chk[\"model_state_dict\"][\"conv_first.weight\"]\n",
    "wt_5 = model_weights_5['conv_first.0.weight']\n",
    "wt_30 = model_weights_30['conv_first.0.weight']\n",
    "wt_40 = model_weights_40['conv_first.0.weight']\n",
    "weights = [wt.detach().cpu().numpy() for wt in [wt_5,wt_30,wt_40]]\n",
    "layer_num = [3,5,7]\n",
    "epoch_num = [5,30,40]\n",
    "weights =  [wt[layer_num] for wt in weights] #get wieghts at 3rd 5th and 7th layer\n",
    "filters_epochs = [weight.transpose(0,2,3,1) for weight in weights]\n",
    "for filters_epoch in filters_epochs:\n",
    "    for idx,filter_ in enumerate(filters_epoch):\n",
    "        plt.figure()\n",
    "        plt.suptitle('Epoch num: {} . Layer num: {}'.format(epoch_num[idx],layer_num[idx]))\n",
    "        filter_ = (filter_-filter_.min())/(filter_.max()-filter_.min())\n",
    "        plt.imshow(filter_)\n",
    "        plt.show()\n",
    "        \n",
    "        \n",
    "    "
   ]
  }
 ],
 "metadata": {
  "kernelspec": {
   "display_name": "Python 3",
   "language": "python",
   "name": "python3"
  },
  "language_info": {
   "codemirror_mode": {
    "name": "ipython",
    "version": 3
   },
   "file_extension": ".py",
   "mimetype": "text/x-python",
   "name": "python",
   "nbconvert_exporter": "python",
   "pygments_lexer": "ipython3",
   "version": "3.8.5"
  }
 },
 "nbformat": 4,
 "nbformat_minor": 2
}
