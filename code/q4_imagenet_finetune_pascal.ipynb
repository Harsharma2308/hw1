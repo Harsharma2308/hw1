{
 "cells": [
  {
   "cell_type": "markdown",
   "metadata": {},
   "source": [
    "# Q4 Shoulders of Giants (15 points)\n",
    "As we have already seen, deep networks can sometimes be hard to optimize. Often times they heavily overfit on small training sets. Many approaches have been proposed to counter this, eg, [Krahenbuhl et al. (ICLR’16)](http://arxiv.org/pdf/1511.06856.pdf), self-supervised learning, etc. However, the most effective approach remains pre-training the network on large, well-labeled supervised datasets such as ImageNet. \n",
    "\n",
    "While training on the full ImageNet data is beyond the scope of this assignment, people have already trained many popular/standard models and released them online. In this task, we will initialize a ResNet-18 model with pre-trained ImageNet weights (from `torchvision`), and finetune the network for PASCAL classification.\n",
    "\n",
    "## 4.1 Load Pre-trained Model (7 pts)\n",
    "Load the pre-trained weights up to the second last layer, and initialize last weights and biases from scratch.\n",
    "\n",
    "The model loading mechanism is based on names of the weights. It is easy to load pretrained models from `torchvision.models`, even when your model uses different names for weights. Please briefly explain how to load the weights correctly if the names do not match ([hint](https://discuss.pytorch.org/t/loading-weights-from-pretrained-model-with-different-module-names/11841)).\n",
    "\n",
    "\n",
    "The key names of the model state dict could be changed to match the layer’s key names.\n",
    "\n",
    "\n",
    "\n"
   ]
  },
  {
   "cell_type": "code",
   "execution_count": 1,
   "metadata": {},
   "outputs": [
    {
     "name": "stdout",
     "output_type": "stream",
     "text": [
      "env: CUDA_VISIBLE_DEVICES=3\n"
     ]
    }
   ],
   "source": [
    "import torch\n",
    "import torch.nn as nn\n",
    "import torch.nn.functional as F\n",
    "from torchvision import models\n",
    "import matplotlib.pyplot as plt\n",
    "%matplotlib inline\n",
    "\n",
    "import trainer\n",
    "from utils import ARGS\n",
    "from simple_cnn import SimpleCNN\n",
    "from voc_dataset import VOCDataset\n",
    "\n",
    "\n",
    "# Pre-trained weights up to second-to-last layer\n",
    "# final layers should be initialized from scratcH!\n",
    "class PretrainedResNet(nn.Module):\n",
    "    def __init__(self):\n",
    "        super().__init__()\n",
    "        self.pretrained_resnet = models.resnet18(pretrained=True)\n",
    "#         self.pretrained_resnet.fc = nn.Linear(512,20,bias=True)\n",
    "        num_classes= len(VOCDataset.CLASS_NAMES)\n",
    "        self.fc = nn.Sequential(\n",
    "                      nn.Linear(1000, num_classes,bias=True))\n",
    "#                       nn.LogSoftmax(dim=1))\n",
    "        \n",
    "    \n",
    "    def forward(self, x):\n",
    "        x=self.pretrained_resnet(x)\n",
    "        out=self.fc(x)\n",
    "        return out\n",
    "        \n",
    "%env CUDA_VISIBLE_DEVICES=3        \n",
    "        "
   ]
  },
  {
   "cell_type": "markdown",
   "metadata": {},
   "source": [
    "Use similar hyperparameter setup as in the scratch case. Show the learning curves (training loss, testing MAP) for 10 epochs. Please evaluate your model to calculate the MAP on the testing dataset every 100 iterations.\n",
    "\n",
    "**REMEMBER TO SAVE MODEL AT END OF TRAINING**\n"
   ]
  },
  {
   "cell_type": "code",
   "execution_count": 2,
   "metadata": {},
   "outputs": [
    {
     "name": "stdout",
     "output_type": "stream",
     "text": [
      "Train Epoch: 0 [0 (0%)]\tLoss: 0.767171\n",
      "Test Epoch: 0 [0 (0%)]\tmAP: 0.074844\n",
      "Train Epoch: 0 [100 (64%)]\tLoss: 0.160626\n",
      "Train Epoch: 1 [200 (27%)]\tLoss: 0.141839\n",
      "Test Epoch: 1 [250 (59%)]\tmAP: 0.798087\n",
      "Train Epoch: 1 [300 (91%)]\tLoss: 0.096467\n",
      "Train Epoch: 2 [400 (55%)]\tLoss: 0.104169\n",
      "Train Epoch: 3 [500 (18%)]\tLoss: 0.072544\n",
      "Test Epoch: 3 [500 (18%)]\tmAP: 0.822814\n",
      "Train Epoch: 3 [600 (82%)]\tLoss: 0.092371\n",
      "Train Epoch: 4 [700 (46%)]\tLoss: 0.081079\n",
      "Test Epoch: 4 [750 (78%)]\tmAP: 0.828885\n",
      "Train Epoch: 5 [800 (10%)]\tLoss: 0.089056\n",
      "Train Epoch: 5 [900 (73%)]\tLoss: 0.082280\n",
      "Train Epoch: 6 [1000 (37%)]\tLoss: 0.062066\n",
      "Test Epoch: 6 [1000 (37%)]\tmAP: 0.832790\n",
      "Train Epoch: 7 [1100 (1%)]\tLoss: 0.064998\n",
      "Train Epoch: 7 [1200 (64%)]\tLoss: 0.078141\n",
      "Test Epoch: 7 [1250 (96%)]\tmAP: 0.832912\n",
      "Train Epoch: 8 [1300 (28%)]\tLoss: 0.058550\n",
      "Train Epoch: 8 [1400 (92%)]\tLoss: 0.105378\n",
      "Train Epoch: 9 [1500 (55%)]\tLoss: 0.081284\n",
      "Test Epoch: 9 [1500 (55%)]\tmAP: 0.839711\n",
      "Train Epoch: 10 [1600 (19%)]\tLoss: 0.063042\n"
     ]
    }
   ],
   "source": [
    "args = ARGS(epochs=50, batch_size=32,test_batch_size=32, lr=0.0001,val_every=250,gamma=0.95,save_freq=5)\n",
    "model = PretrainedResNet()\n",
    "optimizer = torch.optim.Adam(model.parameters(),lr=args.lr)\n",
    "scheduler = torch.optim.lr_scheduler.StepLR(optimizer,step_size=5,gamma=args.gamma)\n",
    "test_ap, test_map = trainer.train(args, model, optimizer, scheduler=scheduler,model_name='Resnet')\n",
    "print('test map:', test_map)"
   ]
  },
  {
   "cell_type": "code",
   "execution_count": null,
   "metadata": {},
   "outputs": [],
   "source": [
    "PATH = 'PretrainedResNet/models/15_.pt'\n",
    "model.load_state_dict(torch.load(PATH))"
   ]
  },
  {
   "attachments": {},
   "cell_type": "markdown",
   "metadata": {},
   "source": [
    "# **YOUR TB SCREENSHOTS HERE**\n",
    "<img src=\"images/train_loss_q4.png\">\n",
    "<img src=\"images/lr_q4.png\">\n",
    "<img src=\"images/map_q4.png\">\n"
   ]
  },
  {
   "cell_type": "code",
   "execution_count": null,
   "metadata": {},
   "outputs": [],
   "source": []
  }
 ],
 "metadata": {
  "kernelspec": {
   "display_name": "Python 3",
   "language": "python",
   "name": "python3"
  },
  "language_info": {
   "codemirror_mode": {
    "name": "ipython",
    "version": 3
   },
   "file_extension": ".py",
   "mimetype": "text/x-python",
   "name": "python",
   "nbconvert_exporter": "python",
   "pygments_lexer": "ipython3",
   "version": "3.8.5"
  }
 },
 "nbformat": 4,
 "nbformat_minor": 2
}
